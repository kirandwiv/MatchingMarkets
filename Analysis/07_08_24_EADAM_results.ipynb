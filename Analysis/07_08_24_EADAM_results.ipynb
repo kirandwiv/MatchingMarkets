{
 "cells": [
  {
   "cell_type": "code",
   "execution_count": 12,
   "metadata": {},
   "outputs": [],
   "source": [
    "import numpy as np\n",
    "import math\n",
    "import pandas as pd\n",
    "import json\n",
    "from utils import *\n",
    "import re\n",
    "import os"
   ]
  },
  {
   "cell_type": "code",
   "execution_count": 13,
   "metadata": {},
   "outputs": [],
   "source": [
    "def get_differences(json_content):\n",
    "    \"\"\"\n",
    "    Get the differences between the DA and the matching\n",
    "    \"\"\"\n",
    "    differences = []\n",
    "    for item in json_content:\n",
    "        da_matching = item['da_matching']\n",
    "        eadam_matching = item['eadam_matching']\n",
    "        da = pd.DataFrame(da_matching)\n",
    "        eadam = pd.DataFrame(eadam_matching)\n",
    "        # Get the differences\n",
    "        diff = (da.iloc[:,1]!=eadam.iloc[:,1]).sum()\n",
    "        differences.append(diff)\n",
    "    return differences"
   ]
  },
  {
   "cell_type": "code",
   "execution_count": 20,
   "metadata": {},
   "outputs": [],
   "source": [
    "def get_filepaths(k):\n",
    "    \"\"\"\n",
    "    Get the filepaths of the JSON files that match the regex\n",
    "    \"\"\"\n",
    "    regex = '_'+str(k)+'_eadam'\n",
    "    filepaths = []\n",
    "    for file in os.listdir('../Data/2024_08_07_EADAM/'):\n",
    "        if re.search(regex, file):\n",
    "            filepaths.append('../Data/2024_08_07_EADAM/'+file)\n",
    "    return filepaths"
   ]
  },
  {
   "cell_type": "code",
   "execution_count": 21,
   "metadata": {},
   "outputs": [],
   "source": [
    "def make_df(k):\n",
    "    \"\"\"\n",
    "    Make a dataframe with the differences between the DA and the matching\n",
    "    \"\"\"\n",
    "    dataframes = []\n",
    "    filepaths = get_filepaths(k)\n",
    "    jsons = [load_json(file) for file in filepaths]\n",
    "    for i, json in enumerate(jsons):\n",
    "        diffs = get_differences(json)\n",
    "        dataframes.append(pd.Series(diffs))\n",
    "    df = pd.concat(dataframes)\n",
    "    return df"
   ]
  },
  {
   "cell_type": "code",
   "execution_count": 22,
   "metadata": {},
   "outputs": [
    {
     "ename": "KeyError",
     "evalue": "'da_matching'",
     "output_type": "error",
     "traceback": [
      "\u001b[1;31m---------------------------------------------------------------------------\u001b[0m",
      "\u001b[1;31mKeyError\u001b[0m                                  Traceback (most recent call last)",
      "Cell \u001b[1;32mIn[22], line 1\u001b[0m\n\u001b[1;32m----> 1\u001b[0m \u001b[43mmake_df\u001b[49m\u001b[43m(\u001b[49m\u001b[38;5;241;43m3\u001b[39;49m\u001b[43m)\u001b[49m\n",
      "Cell \u001b[1;32mIn[21], line 9\u001b[0m, in \u001b[0;36mmake_df\u001b[1;34m(k)\u001b[0m\n\u001b[0;32m      7\u001b[0m jsons \u001b[38;5;241m=\u001b[39m [load_json(file) \u001b[38;5;28;01mfor\u001b[39;00m file \u001b[38;5;129;01min\u001b[39;00m filepaths]\n\u001b[0;32m      8\u001b[0m \u001b[38;5;28;01mfor\u001b[39;00m i, json \u001b[38;5;129;01min\u001b[39;00m \u001b[38;5;28menumerate\u001b[39m(jsons):\n\u001b[1;32m----> 9\u001b[0m     diffs \u001b[38;5;241m=\u001b[39m \u001b[43mget_differences\u001b[49m\u001b[43m(\u001b[49m\u001b[43mjson\u001b[49m\u001b[43m)\u001b[49m\n\u001b[0;32m     10\u001b[0m     dataframes\u001b[38;5;241m.\u001b[39mappend(pd\u001b[38;5;241m.\u001b[39mSeries(diffs))\n\u001b[0;32m     11\u001b[0m df \u001b[38;5;241m=\u001b[39m pd\u001b[38;5;241m.\u001b[39mconcat(dataframes)\n",
      "Cell \u001b[1;32mIn[13], line 7\u001b[0m, in \u001b[0;36mget_differences\u001b[1;34m(json_content)\u001b[0m\n\u001b[0;32m      5\u001b[0m differences \u001b[38;5;241m=\u001b[39m []\n\u001b[0;32m      6\u001b[0m \u001b[38;5;28;01mfor\u001b[39;00m item \u001b[38;5;129;01min\u001b[39;00m json_content:\n\u001b[1;32m----> 7\u001b[0m     da_matching \u001b[38;5;241m=\u001b[39m \u001b[43mitem\u001b[49m\u001b[43m[\u001b[49m\u001b[38;5;124;43m'\u001b[39;49m\u001b[38;5;124;43mda_matching\u001b[39;49m\u001b[38;5;124;43m'\u001b[39;49m\u001b[43m]\u001b[49m\n\u001b[0;32m      8\u001b[0m     eadam_matching \u001b[38;5;241m=\u001b[39m item[\u001b[38;5;124m'\u001b[39m\u001b[38;5;124meadam_matching\u001b[39m\u001b[38;5;124m'\u001b[39m]\n\u001b[0;32m      9\u001b[0m     da \u001b[38;5;241m=\u001b[39m pd\u001b[38;5;241m.\u001b[39mDataFrame(da_matching)\n",
      "\u001b[1;31mKeyError\u001b[0m: 'da_matching'"
     ]
    }
   ],
   "source": [
    "make_df(3)"
   ]
  },
  {
   "cell_type": "code",
   "execution_count": null,
   "metadata": {},
   "outputs": [],
   "source": []
  }
 ],
 "metadata": {
  "kernelspec": {
   "display_name": "CatchALL_20231003",
   "language": "python",
   "name": "python3"
  },
  "language_info": {
   "codemirror_mode": {
    "name": "ipython",
    "version": 3
   },
   "file_extension": ".py",
   "mimetype": "text/x-python",
   "name": "python",
   "nbconvert_exporter": "python",
   "pygments_lexer": "ipython3",
   "version": "3.10.12"
  }
 },
 "nbformat": 4,
 "nbformat_minor": 2
}
