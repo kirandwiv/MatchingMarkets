{
 "cells": [
  {
   "cell_type": "code",
   "execution_count": 3,
   "metadata": {},
   "outputs": [],
   "source": [
    "import numpy as np\n",
    "import math\n",
    "import pandas as pd\n",
    "import json\n",
    "from utils import *\n",
    "import re\n",
    "import os"
   ]
  },
  {
   "cell_type": "code",
   "execution_count": 4,
   "metadata": {},
   "outputs": [],
   "source": [
    "def get_differences(json_content):\n",
    "    \"\"\"\n",
    "    Get the differences between the DA and the matching\n",
    "    \"\"\"\n",
    "    differences = []\n",
    "    for item in json_content:\n",
    "        da_matching = item['da_matching']\n",
    "        eadam_matching = item['eadam_matching']\n",
    "        da = pd.DataFrame(da_matching)\n",
    "        eadam = pd.DataFrame(eadam_matching)\n",
    "        # Get the differences\n",
    "        diff = (da.iloc[:,1]!=eadam.iloc[:,1]).sum()\n",
    "        differences.append(diff)\n",
    "    return differences"
   ]
  },
  {
   "cell_type": "code",
   "execution_count": 5,
   "metadata": {},
   "outputs": [],
   "source": [
    "def get_filepaths(k):\n",
    "    \"\"\"\n",
    "    Get the filepaths of the JSON files that match the regex\n",
    "    \"\"\"\n",
    "    regex = '_'+str(k)+'_eadam'\n",
    "    filepaths = []\n",
    "    for file in os.listdir('../Data/'):\n",
    "        if re.search(regex, file):\n",
    "            filepaths.append('../Data/'+file)\n",
    "    return filepaths"
   ]
  },
  {
   "cell_type": "code",
   "execution_count": 10,
   "metadata": {},
   "outputs": [],
   "source": [
    "def make_df(k):\n",
    "    \"\"\"\n",
    "    Make a dataframe with the differences between the DA and the matching\n",
    "    \"\"\"\n",
    "    dataframes = []\n",
    "    filepaths = get_filepaths(k)\n",
    "    jsons = [load_json(file) for file in filepaths]\n",
    "    for i, json in enumerate(jsons):\n",
    "        diffs = get_differences(json)\n",
    "        dataframes.append(pd.Series(diffs))\n",
    "    df = pd.concat(dataframes)\n",
    "    return df"
   ]
  },
  {
   "cell_type": "code",
   "execution_count": 11,
   "metadata": {},
   "outputs": [
    {
     "data": {
      "text/plain": [
       "0      3\n",
       "1      2\n",
       "2      0\n",
       "3      0\n",
       "4      0\n",
       "      ..\n",
       "995    0\n",
       "996    2\n",
       "997    0\n",
       "998    4\n",
       "999    3\n",
       "Length: 6000, dtype: int64"
      ]
     },
     "execution_count": 11,
     "metadata": {},
     "output_type": "execute_result"
    }
   ],
   "source": [
    "make_df(3)"
   ]
  },
  {
   "cell_type": "code",
   "execution_count": null,
   "metadata": {},
   "outputs": [],
   "source": []
  }
 ],
 "metadata": {
  "kernelspec": {
   "display_name": "CatchALL_20231003",
   "language": "python",
   "name": "python3"
  },
  "language_info": {
   "codemirror_mode": {
    "name": "ipython",
    "version": 3
   },
   "file_extension": ".py",
   "mimetype": "text/x-python",
   "name": "python",
   "nbconvert_exporter": "python",
   "pygments_lexer": "ipython3",
   "version": "3.10.12"
  }
 },
 "nbformat": 4,
 "nbformat_minor": 2
}
